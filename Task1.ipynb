{
  "nbformat": 4,
  "nbformat_minor": 0,
  "metadata": {
    "colab": {
      "provenance": []
    },
    "kernelspec": {
      "name": "python3",
      "display_name": "Python 3"
    },
    "language_info": {
      "name": "python"
    }
  },
  "cells": [
    {
      "cell_type": "code",
      "execution_count": 155,
      "metadata": {
        "colab": {
          "base_uri": "https://localhost:8080/"
        },
        "id": "OehLKrHQBLnD",
        "outputId": "57a8d11f-b46c-400b-9f6f-452b395deeb6"
      },
      "outputs": [
        {
          "output_type": "execute_result",
          "data": {
            "text/plain": [
              "[[0, 1, 0, 0, 0, 0, 0, 0],\n",
              " [1, 0, 1, 1, 0, 0, 0, 0],\n",
              " [0, 1, 0, 0, 1, 1, 0, 0],\n",
              " [0, 1, 0, 0, 0, 0, 1, 1],\n",
              " [0, 0, 1, 0, 0, 0, 0, 0],\n",
              " [0, 0, 1, 0, 0, 0, 0, 0],\n",
              " [0, 0, 0, 1, 0, 0, 0, 0],\n",
              " [0, 0, 0, 1, 0, 0, 0, 0]]"
            ]
          },
          "metadata": {},
          "execution_count": 155
        }
      ],
      "source": [
        "## Создание матрицы смежности\n",
        "\n",
        "import json\n",
        "\n",
        "with open('Task1.json', 'r') as file:\n",
        "    tree = json.load(file)\n",
        "\n",
        "def Check_depth(data, depth, parent=None):\n",
        "  for key, value in data.items():\n",
        "    if (int(key) > depth): depth = int(key)\n",
        "    depth = Check_depth(value, depth, key)\n",
        "  return depth\n",
        "\n",
        "def create_matrix_of_zeroes(depth):\n",
        "  matrix = []\n",
        "  for i in list(range(depth)):\n",
        "    matrix.append([0] * depth)\n",
        "  return matrix\n",
        "\n",
        "def write_adjacency(data, matrix, parent=None):\n",
        "  for key, value in data.items():\n",
        "    for i in value:\n",
        "      matrix[int(key)-1][int(i)-1] = 1\n",
        "      matrix[int(i)-1][int(key)-1] = 1\n",
        "    matrix = write_adjacency(value, matrix, key)\n",
        "  return matrix\n",
        "\n",
        "write_adjacency(tree, create_matrix_of_zeroes(Check_depth(tree, 0, None)), None)"
      ]
    }
  ]
}